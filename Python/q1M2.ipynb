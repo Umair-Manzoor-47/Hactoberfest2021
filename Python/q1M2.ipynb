{
 "cells": [
  {
   "cell_type": "code",
   "execution_count": 6,
   "id": "8c97605c",
   "metadata": {},
   "outputs": [
    {
     "name": "stdout",
     "output_type": "stream",
     "text": [
      "6 was found at index 5\n"
     ]
    }
   ],
   "source": [
    " \n",
    "def Binary(arr, start, end, number):\n",
    "    if end >= start:\n",
    "        res = (start + end) // 2\n",
    "        if arr[res] == number:\n",
    "           return res\n",
    "        elif arr[res] > number:\n",
    "           return Binary(arr, start, res-1, number)\n",
    "        else:\n",
    "           return Binary(arr, res+1, end, number)\n",
    "    else:\n",
    "        return -1\n",
    "x = 6\n",
    "arr = [1, 2, 3, 4, 5, 6, 7,8]\n",
    "val = Binary(arr, 0, len(arr)-1, x)\n",
    "if val == -1:\n",
    "    print(str(x) +\" not found!!!!\")\n",
    "    \n",
    "else:\n",
    "    print(str(x) + \" was found at index \"+ str(val))"
   ]
  },
  {
   "cell_type": "code",
   "execution_count": null,
   "id": "23ba5df0",
   "metadata": {},
   "outputs": [],
   "source": []
  },
  {
   "cell_type": "code",
   "execution_count": null,
   "id": "d5a03397",
   "metadata": {},
   "outputs": [],
   "source": []
  }
 ],
 "metadata": {
  "kernelspec": {
   "display_name": "Python 3",
   "language": "python",
   "name": "python3"
  },
  "language_info": {
   "codemirror_mode": {
    "name": "ipython",
    "version": 3
   },
   "file_extension": ".py",
   "mimetype": "text/x-python",
   "name": "python",
   "nbconvert_exporter": "python",
   "pygments_lexer": "ipython3",
   "version": "3.8.8"
  }
 },
 "nbformat": 4,
 "nbformat_minor": 5
}
